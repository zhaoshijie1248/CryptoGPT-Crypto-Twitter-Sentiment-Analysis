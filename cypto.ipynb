{
 "cells": [
  {
   "cell_type": "markdown",
   "metadata": {},
   "source": [
    "# CryptoGPT: Crypto Twitter Sentiment Analysis"
   ]
  },
  {
   "cell_type": "markdown",
   "metadata": {},
   "source": [
    "## Project Setup"
   ]
  },
  {
   "cell_type": "markdown",
   "metadata": {},
   "source": [
    "We'll use Python 3.11.3 for this project, and the directory structure will be as follows:"
   ]
  },
  {
   "cell_type": "code",
   "execution_count": null,
   "metadata": {},
   "outputs": [],
   "source": [
    ".\n",
    "├── .flake8\n",
    "├── .gitignore\n",
    "├── .python-version\n",
    "├── .vscode\n",
    "│   └── settings.json\n",
    "├── main.py\n",
    "├── requirements.txt\n",
    "└── sentiment_analyzer.py"
   ]
  },
  {
   "cell_type": "markdown",
   "metadata": {},
   "source": [
    "### Libraries"
   ]
  },
  {
   "cell_type": "code",
   "execution_count": null,
   "metadata": {},
   "outputs": [],
   "source": [
    "!pip install -U pip\n",
    "!pip install black isort langchain openai pandas plotly\n",
    "!pip install https://github.com/mahrtayyab/tweety/archive/main.zip --upgrade"
   ]
  },
  {
   "cell_type": "markdown",
   "metadata": {},
   "source": [
    "### Config"
   ]
  },
  {
   "cell_type": "code",
   "execution_count": null,
   "metadata": {},
   "outputs": [],
   "source": [
    "# .vscode/settings.json\n",
    "{\n",
    "  \"python.formatting.provider\": \"black\",\n",
    "  \"[python]\": {\n",
    "    \"editor.formatOnSave\": true,\n",
    "    \"editor.codeActionsOnSave\": {\n",
    "      \"source.organizeImports\": true\n",
    "    }\n",
    "  },\n",
    "  \"isort.args\": [\"--profile\", \"black\"]\n",
    "}"
   ]
  },
  {
   "cell_type": "code",
   "execution_count": null,
   "metadata": {},
   "outputs": [],
   "source": [
    "# .flake8\n",
    "[flake8]\n",
    "max-line-length = 120"
   ]
  },
  {
   "cell_type": "markdown",
   "metadata": {},
   "source": [
    "### Streamlit"
   ]
  },
  {
   "cell_type": "markdown",
   "metadata": {},
   "source": [
    "Streamlit is an open-source Python library designed for building custom web applications with ease. It allows us to create interactive and visually appealing data-driven applications using Python. With Streamlit, we can quickly transform our data analysis code into shareable web applications, making it ideal for our sentiment analysis project. Let's leverage the power of Streamlit to create a seamless and user-friendly interface for analyzing the sentiment of cryptocurrency tweets."
   ]
  },
  {
   "cell_type": "markdown",
   "metadata": {},
   "source": [
    "## Get Tweets"
   ]
  },
  {
   "cell_type": "markdown",
   "metadata": {},
   "source": [
    "To fetch tweets for our analysis, we'll make use of the tweety2 library. This library interacts with Twitter's frontend API to retrieve the desired tweets:"
   ]
  },
  {
   "cell_type": "markdown",
   "metadata": {},
   "source": [
    "We'll use black and isort for formatting and import sorting. Additionally, we'll configure VSCode for the project:"
   ]
  },
  {
   "cell_type": "code",
   "execution_count": 9,
   "metadata": {},
   "outputs": [
    {
     "data": {
      "text/html": [
       "<div>\n",
       "<style scoped>\n",
       "    .dataframe tbody tr th:only-of-type {\n",
       "        vertical-align: middle;\n",
       "    }\n",
       "\n",
       "    .dataframe tbody tr th {\n",
       "        vertical-align: top;\n",
       "    }\n",
       "\n",
       "    .dataframe thead th {\n",
       "        text-align: right;\n",
       "    }\n",
       "</style>\n",
       "<table border=\"1\" class=\"dataframe\">\n",
       "  <thead>\n",
       "    <tr style=\"text-align: right;\">\n",
       "      <th></th>\n",
       "      <th>text</th>\n",
       "      <th>author</th>\n",
       "      <th>date</th>\n",
       "      <th>views</th>\n",
       "      <th>created_at</th>\n",
       "    </tr>\n",
       "    <tr>\n",
       "      <th>id</th>\n",
       "      <th></th>\n",
       "      <th></th>\n",
       "      <th></th>\n",
       "      <th></th>\n",
       "      <th></th>\n",
       "    </tr>\n",
       "  </thead>\n",
       "  <tbody>\n",
       "    <tr>\n",
       "      <th>1791689030641578286</th>\n",
       "      <td>Ice cream is an amazing invention</td>\n",
       "      <td>elonmusk</td>\n",
       "      <td>2024-05-18</td>\n",
       "      <td>86507244</td>\n",
       "      <td>2024-05-18 04:35:27+00:00</td>\n",
       "    </tr>\n",
       "    <tr>\n",
       "      <th>1791636698318745634</th>\n",
       "      <td>Falcon going to orbit as seen from ocean</td>\n",
       "      <td>elonmusk</td>\n",
       "      <td>2024-05-18</td>\n",
       "      <td>84232753</td>\n",
       "      <td>2024-05-18 01:07:30+00:00</td>\n",
       "    </tr>\n",
       "    <tr>\n",
       "      <th>1778833124643983615</th>\n",
       "      <td>To an exciting &amp; inspiring future!</td>\n",
       "      <td>elonmusk</td>\n",
       "      <td>2024-04-12</td>\n",
       "      <td>104631132</td>\n",
       "      <td>2024-04-12 17:10:40+00:00</td>\n",
       "    </tr>\n",
       "    <tr>\n",
       "      <th>1765047740327702665</th>\n",
       "      <td>If you’re reading this post, it’s because our ...</td>\n",
       "      <td>elonmusk</td>\n",
       "      <td>2024-03-05</td>\n",
       "      <td>105358570</td>\n",
       "      <td>2024-03-05 16:12:28+00:00</td>\n",
       "    </tr>\n",
       "    <tr>\n",
       "      <th>1748036927821942798</th>\n",
       "      <td>So hot rn</td>\n",
       "      <td>elonmusk</td>\n",
       "      <td>2024-01-18</td>\n",
       "      <td>121492475</td>\n",
       "      <td>2024-01-18 17:37:35+00:00</td>\n",
       "    </tr>\n",
       "    <tr>\n",
       "      <th>1718192456838107162</th>\n",
       "      <td>Oh the Irany …</td>\n",
       "      <td>elonmusk</td>\n",
       "      <td>2023-10-28</td>\n",
       "      <td>110247656</td>\n",
       "      <td>2023-10-28 09:06:18+00:00</td>\n",
       "    </tr>\n",
       "    <tr>\n",
       "      <th>1707915765977055584</th>\n",
       "      <td>Hip-firing my Barrett 50 cal</td>\n",
       "      <td>elonmusk</td>\n",
       "      <td>2023-09-30</td>\n",
       "      <td>94050848</td>\n",
       "      <td>2023-09-30 00:30:24+00:00</td>\n",
       "    </tr>\n",
       "    <tr>\n",
       "      <th>1688022163574439937</th>\n",
       "      <td>If you were unfairly treated by your employer ...</td>\n",
       "      <td>elonmusk</td>\n",
       "      <td>2023-08-06</td>\n",
       "      <td>142615227</td>\n",
       "      <td>2023-08-06 03:00:20+00:00</td>\n",
       "    </tr>\n",
       "    <tr>\n",
       "      <th>1686058966705487875</th>\n",
       "      <td>Wow, I’m glad so many people love Canada too 🤗</td>\n",
       "      <td>elonmusk</td>\n",
       "      <td>2023-07-31</td>\n",
       "      <td>68744363</td>\n",
       "      <td>2023-07-31 16:59:17+00:00</td>\n",
       "    </tr>\n",
       "    <tr>\n",
       "      <th>1686050455468621831</th>\n",
       "      <td>I ♥️ Canada</td>\n",
       "      <td>elonmusk</td>\n",
       "      <td>2023-07-31</td>\n",
       "      <td>142566839</td>\n",
       "      <td>2023-07-31 16:25:28+00:00</td>\n",
       "    </tr>\n",
       "  </tbody>\n",
       "</table>\n",
       "</div>"
      ],
      "text/plain": [
       "                                                                  text  \\\n",
       "id                                                                       \n",
       "1791689030641578286                 Ice cream is an amazing invention    \n",
       "1791636698318745634          Falcon going to orbit as seen from ocean    \n",
       "1778833124643983615                To an exciting & inspiring future!    \n",
       "1765047740327702665  If you’re reading this post, it’s because our ...   \n",
       "1748036927821942798                                         So hot rn    \n",
       "1718192456838107162                                    Oh the Irany …    \n",
       "1707915765977055584                      Hip-firing my Barrett 50 cal    \n",
       "1688022163574439937  If you were unfairly treated by your employer ...   \n",
       "1686058966705487875    Wow, I’m glad so many people love Canada too 🤗    \n",
       "1686050455468621831                                       I ♥️ Canada    \n",
       "\n",
       "                       author        date      views                created_at  \n",
       "id                                                                              \n",
       "1791689030641578286  elonmusk  2024-05-18   86507244 2024-05-18 04:35:27+00:00  \n",
       "1791636698318745634  elonmusk  2024-05-18   84232753 2024-05-18 01:07:30+00:00  \n",
       "1778833124643983615  elonmusk  2024-04-12  104631132 2024-04-12 17:10:40+00:00  \n",
       "1765047740327702665  elonmusk  2024-03-05  105358570 2024-03-05 16:12:28+00:00  \n",
       "1748036927821942798  elonmusk  2024-01-18  121492475 2024-01-18 17:37:35+00:00  \n",
       "1718192456838107162  elonmusk  2023-10-28  110247656 2023-10-28 09:06:18+00:00  \n",
       "1707915765977055584  elonmusk  2023-09-30   94050848 2023-09-30 00:30:24+00:00  \n",
       "1688022163574439937  elonmusk  2023-08-06  142615227 2023-08-06 03:00:20+00:00  \n",
       "1686058966705487875  elonmusk  2023-07-31   68744363 2023-07-31 16:59:17+00:00  \n",
       "1686050455468621831  elonmusk  2023-07-31  142566839 2023-07-31 16:25:28+00:00  "
      ]
     },
     "execution_count": 9,
     "metadata": {},
     "output_type": "execute_result"
    }
   ],
   "source": [
    "\n",
    "\n",
    "from tweety import Twitter\n",
    "\n",
    "twitter_client = Twitter(\"session\")\n",
    "tweets = twitter_client.get_tweets(\"elonmusk\")\n",
    "# for tweet in tweets:\n",
    "#     print(tweet.text)\n",
    "#     print()\n",
    "\n",
    "import re\n",
    "\n",
    "\n",
    "def clean_tweet(text: str) -> str:\n",
    "    text = re.sub(r\"http\\S+\", \"\", text)\n",
    "    text = re.sub(r\"www.\\S+\", \"\", text)\n",
    "    return re.sub(r\"\\s+\", \" \", text)\n",
    "\n",
    "from datetime import datetime\n",
    "from typing import Dict, List\n",
    "\n",
    "import pandas as pd\n",
    "from tweety.types import Tweet\n",
    "\n",
    "\n",
    "def create_dataframe_from_tweets(tweets: List[Tweet]) -> pd.DataFrame:\n",
    "    rows = []\n",
    "    for tweet in tweets:\n",
    "        clean_text = clean_tweet(tweet.text)\n",
    "        if len(clean_text) == 0:\n",
    "            continue\n",
    "        rows.append(\n",
    "            {\n",
    "                \"id\": tweet.id,\n",
    "                \"text\": clean_text,\n",
    "                \"author\": tweet.author.username,\n",
    "                \"date\": str(tweet.date.date()),\n",
    "                \"created_at\": tweet.date,\n",
    "                \"views\": tweet.views,\n",
    "            }\n",
    "        )\n",
    " \n",
    "    df = pd.DataFrame(\n",
    "        rows,\n",
    "        columns=[\"id\", \"text\", \"author\", \"date\", \"views\", \"created_at\"]\n",
    "    )\n",
    "    df.set_index(\"id\", inplace=True)\n",
    "    if df.empty:\n",
    "        return df\n",
    "    today = datetime.now().date()\n",
    "    # df = df[\n",
    "    #     df.created_at.dt.date > today - pd.to_timedelta(\"7day\")\n",
    "    # ]\n",
    "    return df.sort_values(by=\"created_at\", ascending=False)\n",
    "\n",
    "df = create_dataframe_from_tweets(tweets)\n",
    "df.head(10)"
   ]
  },
  {
   "cell_type": "code",
   "execution_count": 5,
   "metadata": {},
   "outputs": [
    {
     "name": "stdout",
     "output_type": "stream",
     "text": [
      "Collecting https://github.com/mahrtayyab/tweety/archive/main.zip\n",
      "  Using cached https://github.com/mahrtayyab/tweety/archive/main.zip\n",
      "  Installing build dependencies: started\n",
      "  Installing build dependencies: finished with status 'done'\n",
      "  Getting requirements to build wheel: started\n",
      "  Getting requirements to build wheel: finished with status 'done'\n",
      "  Preparing metadata (pyproject.toml): started\n",
      "  Preparing metadata (pyproject.toml): finished with status 'done'\n",
      "Requirement already satisfied: beautifulsoup4 in c:\\users\\shijie\\anaconda3\\envs\\cyptovenv\\lib\\site-packages (from tweety-ns==1.1.7) (4.12.3)\n",
      "Collecting openpyxl (from tweety-ns==1.1.7)\n",
      "  Using cached openpyxl-3.1.4-py2.py3-none-any.whl.metadata (2.5 kB)\n",
      "Collecting httpx (from tweety-ns==1.1.7)\n",
      "  Using cached httpx-0.27.0-py3-none-any.whl.metadata (7.2 kB)\n",
      "Collecting dateutils (from tweety-ns==1.1.7)\n",
      "  Using cached dateutils-0.6.12-py2.py3-none-any.whl.metadata (1.3 kB)\n",
      "Requirement already satisfied: soupsieve>1.2 in c:\\users\\shijie\\anaconda3\\envs\\cyptovenv\\lib\\site-packages (from beautifulsoup4->tweety-ns==1.1.7) (2.5)\n",
      "Requirement already satisfied: python-dateutil in c:\\users\\shijie\\anaconda3\\envs\\cyptovenv\\lib\\site-packages (from dateutils->tweety-ns==1.1.7) (2.9.0)\n",
      "Requirement already satisfied: pytz in c:\\users\\shijie\\anaconda3\\envs\\cyptovenv\\lib\\site-packages (from dateutils->tweety-ns==1.1.7) (2024.1)\n",
      "Collecting anyio (from httpx->tweety-ns==1.1.7)\n",
      "  Using cached anyio-4.4.0-py3-none-any.whl.metadata (4.6 kB)\n",
      "Requirement already satisfied: certifi in c:\\users\\shijie\\anaconda3\\envs\\cyptovenv\\lib\\site-packages (from httpx->tweety-ns==1.1.7) (2024.6.2)\n",
      "Collecting httpcore==1.* (from httpx->tweety-ns==1.1.7)\n",
      "  Using cached httpcore-1.0.5-py3-none-any.whl.metadata (20 kB)\n",
      "Requirement already satisfied: idna in c:\\users\\shijie\\anaconda3\\envs\\cyptovenv\\lib\\site-packages (from httpx->tweety-ns==1.1.7) (3.7)\n",
      "Requirement already satisfied: sniffio in c:\\users\\shijie\\anaconda3\\envs\\cyptovenv\\lib\\site-packages (from httpx->tweety-ns==1.1.7) (1.3.1)\n",
      "Requirement already satisfied: h11<0.15,>=0.13 in c:\\users\\shijie\\anaconda3\\envs\\cyptovenv\\lib\\site-packages (from httpcore==1.*->httpx->tweety-ns==1.1.7) (0.14.0)\n",
      "Collecting et-xmlfile (from openpyxl->tweety-ns==1.1.7)\n",
      "  Using cached et_xmlfile-1.1.0-py3-none-any.whl.metadata (1.8 kB)\n",
      "Requirement already satisfied: six>=1.5 in c:\\users\\shijie\\anaconda3\\envs\\cyptovenv\\lib\\site-packages (from python-dateutil->dateutils->tweety-ns==1.1.7) (1.16.0)\n",
      "Using cached dateutils-0.6.12-py2.py3-none-any.whl (5.7 kB)\n",
      "Using cached httpx-0.27.0-py3-none-any.whl (75 kB)\n",
      "Using cached httpcore-1.0.5-py3-none-any.whl (77 kB)\n",
      "Using cached openpyxl-3.1.4-py2.py3-none-any.whl (251 kB)\n",
      "Using cached anyio-4.4.0-py3-none-any.whl (86 kB)\n",
      "Using cached et_xmlfile-1.1.0-py3-none-any.whl (4.7 kB)\n",
      "Building wheels for collected packages: tweety-ns\n",
      "  Building wheel for tweety-ns (pyproject.toml): started\n",
      "  Building wheel for tweety-ns (pyproject.toml): finished with status 'done'\n",
      "  Created wheel for tweety-ns: filename=tweety_ns-1.1.7-py3-none-any.whl size=76749 sha256=1efa87a38e94e693b9c74be4067f9850d8b66b851a3cce81c499836b0d387275\n",
      "  Stored in directory: C:\\Users\\shijie\\AppData\\Local\\Temp\\pip-ephem-wheel-cache-44pje4w5\\wheels\\c6\\af\\de\\387e83d579629da54685509f59c0407eda12f52ffba6312069\n",
      "Successfully built tweety-ns\n",
      "Installing collected packages: httpcore, et-xmlfile, anyio, openpyxl, httpx, dateutils, tweety-ns\n",
      "Successfully installed anyio-4.4.0 dateutils-0.6.12 et-xmlfile-1.1.0 httpcore-1.0.5 httpx-0.27.0 openpyxl-3.1.4 tweety-ns-1.1.7\n"
     ]
    }
   ],
   "source": [
    "!pip install https://github.com/mahrtayyab/tweety/archive/main.zip --upgrade "
   ]
  },
  {
   "cell_type": "code",
   "execution_count": null,
   "metadata": {},
   "outputs": [],
   "source": []
  }
 ],
 "metadata": {
  "kernelspec": {
   "display_name": "cyptovenv",
   "language": "python",
   "name": "python3"
  },
  "language_info": {
   "codemirror_mode": {
    "name": "ipython",
    "version": 3
   },
   "file_extension": ".py",
   "mimetype": "text/x-python",
   "name": "python",
   "nbconvert_exporter": "python",
   "pygments_lexer": "ipython3",
   "version": "3.12.4"
  }
 },
 "nbformat": 4,
 "nbformat_minor": 2
}
